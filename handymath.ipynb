{
 "cells": [
  {
   "cell_type": "code",
   "execution_count": null,
   "id": "6551fcbb",
   "metadata": {},
   "outputs": [],
   "source": [
    "# Full reset of the camera\n",
    "!echo 'jetson' | sudo -S systemctl restart nvargus-daemon && printf '\\n'\n",
    "# Check device number\n",
    "!ls -ltrh /dev/video*\n",
    "\n",
    "import run"
   ]
  },
  {
   "cell_type": "code",
   "execution_count": null,
   "id": "0981b892",
   "metadata": {},
   "outputs": [],
   "source": [
    "display(run.camera_widget)\n",
    "display(run.prediction_widget)\n"
   ]
  },
  {
   "cell_type": "code",
   "execution_count": null,
   "id": "23d836c0",
   "metadata": {},
   "outputs": [
    {
     "name": "stdout",
     "output_type": "stream",
     "text": [
      "Your score is 1\n",
      "28+21\n"
     ]
    }
   ],
   "source": [
    "run.game()"
   ]
  },
  {
   "cell_type": "code",
   "execution_count": null,
   "id": "2db1c6bc",
   "metadata": {},
   "outputs": [],
   "source": []
  },
  {
   "cell_type": "code",
   "execution_count": null,
   "id": "1a0967f7",
   "metadata": {},
   "outputs": [],
   "source": []
  }
 ],
 "metadata": {
  "kernelspec": {
   "display_name": "Python 3",
   "language": "python",
   "name": "python3"
  },
  "language_info": {
   "codemirror_mode": {
    "name": "ipython",
    "version": 3
   },
   "file_extension": ".py",
   "mimetype": "text/x-python",
   "name": "python",
   "nbconvert_exporter": "python",
   "pygments_lexer": "ipython3",
   "version": "3.6.9"
  }
 },
 "nbformat": 4,
 "nbformat_minor": 5
}
